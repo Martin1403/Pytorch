{
 "cells": [
  {
   "cell_type": "code",
   "execution_count": 1,
   "id": "41d3bd32",
   "metadata": {},
   "outputs": [
    {
     "data": {
      "text/plain": [
       "'1.4.0'"
      ]
     },
     "execution_count": 1,
     "metadata": {},
     "output_type": "execute_result"
    }
   ],
   "source": [
    "import torch\n",
    "import torch.nn as nn\n",
    "import numpy as np\n",
    "import pandas as pd\n",
    "import matplotlib.pyplot as plt\n",
    "\n",
    "torch.__version__"
   ]
  },
  {
   "cell_type": "markdown",
   "id": "21ded6d4",
   "metadata": {},
   "source": [
    "### Load data:"
   ]
  },
  {
   "cell_type": "code",
   "execution_count": 2,
   "id": "f81dfc1f",
   "metadata": {},
   "outputs": [
    {
     "data": {
      "text/html": [
       "<div>\n",
       "<style scoped>\n",
       "    .dataframe tbody tr th:only-of-type {\n",
       "        vertical-align: middle;\n",
       "    }\n",
       "\n",
       "    .dataframe tbody tr th {\n",
       "        vertical-align: top;\n",
       "    }\n",
       "\n",
       "    .dataframe thead th {\n",
       "        text-align: right;\n",
       "    }\n",
       "</style>\n",
       "<table border=\"1\" class=\"dataframe\">\n",
       "  <thead>\n",
       "    <tr style=\"text-align: right;\">\n",
       "      <th></th>\n",
       "      <th>0</th>\n",
       "      <th>1</th>\n",
       "    </tr>\n",
       "  </thead>\n",
       "  <tbody>\n",
       "    <tr>\n",
       "      <th>0</th>\n",
       "      <td>Year</td>\n",
       "      <td>Transistors</td>\n",
       "    </tr>\n",
       "    <tr>\n",
       "      <th>1</th>\n",
       "      <td>1971.875</td>\n",
       "      <td>2.30824152676</td>\n",
       "    </tr>\n",
       "    <tr>\n",
       "      <th>2</th>\n",
       "      <td>1972.30769231</td>\n",
       "      <td>3.55452235561</td>\n",
       "    </tr>\n",
       "    <tr>\n",
       "      <th>3</th>\n",
       "      <td>1974.32692308</td>\n",
       "      <td>6.09756235221</td>\n",
       "    </tr>\n",
       "  </tbody>\n",
       "</table>\n",
       "</div>"
      ],
      "text/plain": [
       "               0              1\n",
       "0           Year    Transistors\n",
       "1       1971.875  2.30824152676\n",
       "2  1972.30769231  3.55452235561\n",
       "3  1974.32692308  6.09756235221"
      ]
     },
     "execution_count": 2,
     "metadata": {},
     "output_type": "execute_result"
    }
   ],
   "source": [
    "df = pd.read_csv(\"transistors.csv\", header=None)\n",
    "df.head(4)"
   ]
  },
  {
   "cell_type": "code",
   "execution_count": 3,
   "id": "f97f83d9",
   "metadata": {},
   "outputs": [
    {
     "data": {
      "image/png": "[encoded data removed]",
      "text/plain": [
       "<Figure size 432x288 with 1 Axes>"
      ]
     },
     "metadata": {
      "needs_background": "light"
     },
     "output_type": "display_data"
    }
   ],
   "source": [
    "x = df[0].values[1:].astype(\"float32\").reshape(-1, 1)\n",
    "y = df[1].values[1:].astype(\"float32\").reshape(-1, 1)\n",
    "plt.scatter(x, y);"
   ]
  },
  {
   "cell_type": "markdown",
   "id": "d8a21e6e",
   "metadata": {},
   "source": [
    "### Better suited for Regression model:"
   ]
  },
  {
   "cell_type": "code",
   "execution_count": 4,
   "id": "1e4c956a",
   "metadata": {},
   "outputs": [
    {
     "data": {
      "image/png": "[encoded data removed]",
      "text/plain": [
       "<Figure size 432x288 with 1 Axes>"
      ]
     },
     "metadata": {
      "needs_background": "light"
     },
     "output_type": "display_data"
    }
   ],
   "source": [
    "y = np.log(y)\n",
    "plt.scatter(x, y);"
   ]
  },
  {
   "cell_type": "markdown",
   "id": "6f0642eb",
   "metadata": {},
   "source": [
    "### Normalize data:"
   ]
  },
  {
   "cell_type": "code",
   "execution_count": 5,
   "id": "db9dfb27",
   "metadata": {},
   "outputs": [
    {
     "data": {
      "image/png": "[encoded data removed]",
      "text/plain": [
       "<Figure size 432x288 with 1 Axes>"
      ]
     },
     "metadata": {
      "needs_background": "light"
     },
     "output_type": "display_data"
    }
   ],
   "source": [
    "mx = x.mean()\n",
    "sx = x.std()\n",
    "my = y.mean()\n",
    "sy = y.std()\n",
    "\n",
    "x = (x - mx) / sx\n",
    "y = (y - my) / sy\n",
    "plt.scatter(x, y);"
   ]
  },
  {
   "cell_type": "markdown",
   "id": "8603ab02",
   "metadata": {},
   "source": [
    "**Note:** Suited around 0."
   ]
  },
  {
   "cell_type": "markdown",
   "id": "602eef3e",
   "metadata": {},
   "source": [
    "### Make tensors:"
   ]
  },
  {
   "cell_type": "code",
   "execution_count": 6,
   "id": "4f7d2bdf",
   "metadata": {},
   "outputs": [],
   "source": [
    "inputs = torch.from_numpy(x)\n",
    "targets = torch.from_numpy(y)"
   ]
  },
  {
   "cell_type": "markdown",
   "id": "1ecb2026",
   "metadata": {},
   "source": [
    "### Regression model:"
   ]
  },
  {
   "cell_type": "code",
   "execution_count": 7,
   "id": "83171712",
   "metadata": {},
   "outputs": [],
   "source": [
    "model = nn.Linear(1, 1)\n",
    "criterion = nn.MSELoss()\n",
    "optimizer = torch.optim.SGD(model.parameters(), lr=0.01, momentum=0.7)"
   ]
  },
  {
   "cell_type": "markdown",
   "id": "7453743f",
   "metadata": {},
   "source": [
    "### Train model:"
   ]
  },
  {
   "cell_type": "code",
   "execution_count": 9,
   "id": "b3e7b0a3",
   "metadata": {},
   "outputs": [
    {
     "name": "stdout",
     "output_type": "stream",
     "text": [
      "Epoch 1/100 Loss: 0.5112932324409485\n",
      "Epoch 6/100 Loss: 0.3398951292037964\n",
      "Epoch 11/100 Loss: 0.17583775520324707\n",
      "Epoch 16/100 Loss: 0.08980552852153778\n",
      "Epoch 21/100 Loss: 0.05114136263728142\n",
      "Epoch 26/100 Loss: 0.034690700471401215\n",
      "Epoch 31/100 Loss: 0.02783840522170067\n",
      "Epoch 36/100 Loss: 0.025008350610733032\n",
      "Epoch 41/100 Loss: 0.023843560367822647\n",
      "Epoch 46/100 Loss: 0.023364825174212456\n",
      "Epoch 51/100 Loss: 0.023168180137872696\n",
      "Epoch 56/100 Loss: 0.02308741956949234\n",
      "Epoch 61/100 Loss: 0.02305426076054573\n",
      "Epoch 66/100 Loss: 0.023040639236569405\n",
      "Epoch 71/100 Loss: 0.023035049438476562\n",
      "Epoch 76/100 Loss: 0.02303275652229786\n",
      "Epoch 81/100 Loss: 0.023031815886497498\n",
      "Epoch 86/100 Loss: 0.02303142286837101\n",
      "Epoch 91/100 Loss: 0.023031264543533325\n",
      "Epoch 96/100 Loss: 0.023031199350953102\n"
     ]
    }
   ],
   "source": [
    "epochs = 100\n",
    "losses = []\n",
    "for epoch in range(epochs):\n",
    "    optimizer.zero_grad()\n",
    "    \n",
    "    outputs = model(inputs)\n",
    "    loss = criterion(outputs, targets)\n",
    "    \n",
    "    losses.append(loss.item())\n",
    "    \n",
    "    loss.backward()\n",
    "    optimizer.step()\n",
    "    \n",
    "    if epoch % 5 == 0:\n",
    "        print(f\"Epoch {epoch + 1}/{epochs} Loss: {loss}\")"
   ]
  },
  {
   "cell_type": "code",
   "execution_count": 10,
   "id": "5149f8c1",
   "metadata": {},
   "outputs": [
    {
     "data": {
      "image/png": "[encoded data removed]",
      "text/plain": [
       "<Figure size 432x288 with 1 Axes>"
      ]
     },
     "metadata": {
      "needs_background": "light"
     },
     "output_type": "display_data"
    }
   ],
   "source": [
    "plt.plot(losses);"
   ]
  },
  {
   "cell_type": "code",
   "execution_count": 15,
   "id": "bcc302c4",
   "metadata": {
    "scrolled": true
   },
   "outputs": [
    {
     "data": {
      "image/png": "[encoded data removed]",
      "text/plain": [
       "<Figure size 432x288 with 1 Axes>"
      ]
     },
     "metadata": {
      "needs_background": "light"
     },
     "output_type": "display_data"
    }
   ],
   "source": [
    "predicted = model(torch.from_numpy(x)).detach().numpy()\n",
    "plt.plot(x, y, 'ro', label=\"Original data\")\n",
    "plt.plot(x, predicted, label=\"Fitted line\")\n",
    "plt.legend();\n",
    "plt.savefig(\"figure.png\")"
   ]
  },
  {
   "cell_type": "code",
   "execution_count": 26,
   "id": "26401b09",
   "metadata": {},
   "outputs": [
    {
     "name": "stdout",
     "output_type": "stream",
     "text": [
      "Time to double: 1.994617360451962\n"
     ]
    }
   ],
   "source": [
    "w = model.weight.detach().numpy()[0][0]\n",
    "a = w * sy /sx\n",
    "\n",
    "print(\"Time to double:\", np.log(2) / a)"
   ]
  },
  {
   "cell_type": "code",
   "execution_count": null,
   "id": "cf8780d7",
   "metadata": {},
   "outputs": [],
   "source": []
  }
 ],
 "metadata": {
  "kernelspec": {
   "display_name": "Python 3 (ipykernel)",
   "language": "python",
   "name": "python3"
  },
  "language_info": {
   "codemirror_mode": {
    "name": "ipython",
    "version": 3
   },
   "file_extension": ".py",
   "mimetype": "text/x-python",
   "name": "python",
   "nbconvert_exporter": "python",
   "pygments_lexer": "ipython3",
   "version": "3.8.13"
  }
 },
 "nbformat": 4,
 "nbformat_minor": 5
}
