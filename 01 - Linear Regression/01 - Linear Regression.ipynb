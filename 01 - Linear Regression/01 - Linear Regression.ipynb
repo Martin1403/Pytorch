{
 "cells": [
  {
   "cell_type": "code",
   "execution_count": 1,
   "id": "1ce23d64",
   "metadata": {},
   "outputs": [
    {
     "data": {
      "text/plain": [
       "'1.4.0'"
      ]
     },
     "execution_count": 1,
     "metadata": {},
     "output_type": "execute_result"
    }
   ],
   "source": [
    "import torch\n",
    "import torch.nn as nn\n",
    "import numpy as np\n",
    "import matplotlib.pyplot as plt\n",
    "\n",
    "torch.__version__"
   ]
  },
  {
   "cell_type": "markdown",
   "id": "accdd745",
   "metadata": {},
   "source": [
    "### Make random points:"
   ]
  },
  {
   "cell_type": "code",
   "execution_count": 2,
   "id": "3b3ce7d4",
   "metadata": {},
   "outputs": [
    {
     "data": {
      "image/png": "[encoded data removed]",
      "text/plain": [
       "<Figure size 432x288 with 1 Axes>"
      ]
     },
     "metadata": {
      "needs_background": "light"
     },
     "output_type": "display_data"
    }
   ],
   "source": [
    "N = 20\n",
    "\n",
    "X = np.random.random(N)*10 - 5\n",
    "Y = 0.5 * X - 1 + np.random.randn(N) *10 - 5\n",
    "\n",
    "plt.scatter(X, Y);"
   ]
  },
  {
   "cell_type": "markdown",
   "id": "d5f2451a",
   "metadata": {},
   "source": [
    "### Create the linear regression model:"
   ]
  },
  {
   "cell_type": "code",
   "execution_count": 3,
   "id": "f433eeb2",
   "metadata": {},
   "outputs": [
    {
     "data": {
      "text/plain": [
       "Linear(in_features=1, out_features=1, bias=True)"
      ]
     },
     "execution_count": 3,
     "metadata": {},
     "output_type": "execute_result"
    }
   ],
   "source": [
    "model = nn.Linear(1, 1)\n",
    "model"
   ]
  },
  {
   "cell_type": "markdown",
   "id": "42776d89",
   "metadata": {},
   "source": [
    "### Define loss and optimizer"
   ]
  },
  {
   "cell_type": "code",
   "execution_count": 4,
   "id": "861fbff1",
   "metadata": {},
   "outputs": [
    {
     "data": {
      "text/plain": [
       "(MSELoss(),\n",
       " SGD (\n",
       " Parameter Group 0\n",
       "     dampening: 0\n",
       "     lr: 0.1\n",
       "     momentum: 0\n",
       "     nesterov: False\n",
       "     weight_decay: 0\n",
       " ))"
      ]
     },
     "execution_count": 4,
     "metadata": {},
     "output_type": "execute_result"
    }
   ],
   "source": [
    "criterion = nn.MSELoss()\n",
    "optimizer = torch.optim.SGD(model.parameters(), lr=0.1)\n",
    "criterion, optimizer"
   ]
  },
  {
   "cell_type": "markdown",
   "id": "2afb2f5d",
   "metadata": {},
   "source": [
    "### Reshape data and create tensors:"
   ]
  },
  {
   "cell_type": "code",
   "execution_count": 5,
   "id": "22641f70",
   "metadata": {},
   "outputs": [
    {
     "data": {
      "text/plain": [
       "((20, 1), (20, 1))"
      ]
     },
     "execution_count": 5,
     "metadata": {},
     "output_type": "execute_result"
    }
   ],
   "source": [
    "X = X.reshape(N, 1)\n",
    "Y = Y.reshape(N, 1)\n",
    "\n",
    "X.shape, Y.shape"
   ]
  },
  {
   "cell_type": "code",
   "execution_count": 6,
   "id": "0e9e3d1e",
   "metadata": {},
   "outputs": [
    {
     "data": {
      "text/plain": [
       "(torch.Tensor, torch.Tensor)"
      ]
     },
     "execution_count": 6,
     "metadata": {},
     "output_type": "execute_result"
    }
   ],
   "source": [
    "inputs = torch.from_numpy(X.astype(np.float32))\n",
    "targets = torch.from_numpy(Y.astype(np.float32))\n",
    "type(inputs), type(targets)"
   ]
  },
  {
   "cell_type": "markdown",
   "id": "fd197297",
   "metadata": {},
   "source": [
    "### Train model:"
   ]
  },
  {
   "cell_type": "code",
   "execution_count": 7,
   "id": "53d90819",
   "metadata": {},
   "outputs": [
    {
     "name": "stdout",
     "output_type": "stream",
     "text": [
      "Epoch 1/31 Loss: 6.1446638107299805\n",
      "Epoch 2/31 Loss: 3.0809473991394043\n",
      "Epoch 3/31 Loss: 1.5477700233459473\n",
      "Epoch 4/31 Loss: 0.7794731855392456\n",
      "Epoch 5/31 Loss: 0.39379096031188965\n",
      "Epoch 6/31 Loss: 0.19974146783351898\n",
      "Epoch 7/31 Loss: 0.10182596743106842\n",
      "Epoch 8/31 Loss: 0.052236407995224\n",
      "Epoch 9/31 Loss: 0.027004782110452652\n",
      "Epoch 10/31 Loss: 0.014091799035668373\n",
      "Epoch 11/31 Loss: 0.007435639388859272\n",
      "Epoch 12/31 Loss: 0.003974508959800005\n",
      "Epoch 13/31 Loss: 0.0021557798609137535\n",
      "Epoch 14/31 Loss: 0.0011882761027663946\n",
      "Epoch 15/31 Loss: 0.0006663271924480796\n",
      "Epoch 16/31 Loss: 0.0003803036524914205\n",
      "Epoch 17/31 Loss: 0.0002209069934906438\n",
      "Epoch 18/31 Loss: 0.0001305060723097995\n",
      "Epoch 19/31 Loss: 7.83170253271237e-05\n",
      "Epoch 20/31 Loss: 4.766861457028426e-05\n",
      "Epoch 21/31 Loss: 2.937439967354294e-05\n",
      "Epoch 22/31 Loss: 1.829368011385668e-05\n",
      "Epoch 23/31 Loss: 1.1493581041577272e-05\n",
      "Epoch 24/31 Loss: 7.273954452102771e-06\n",
      "Epoch 25/31 Loss: 4.630188868759433e-06\n",
      "Epoch 26/31 Loss: 2.9613615879497956e-06\n",
      "Epoch 27/31 Loss: 1.9012493339687353e-06\n",
      "Epoch 28/31 Loss: 1.2238593853908242e-06\n",
      "Epoch 29/31 Loss: 7.898281069174118e-07\n",
      "Epoch 30/31 Loss: 5.106019784761884e-07\n"
     ]
    }
   ],
   "source": [
    "epochs = 31\n",
    "losses = []\n",
    "\n",
    "for epoch in range(1, epochs):\n",
    "    optimizer.zero_grad()\n",
    "    \n",
    "    outputs = model(inputs)\n",
    "    loss = criterion(inputs, outputs)\n",
    "    \n",
    "    losses.append(loss.item())\n",
    "    \n",
    "    loss.backward()\n",
    "    optimizer.step()\n",
    "    \n",
    "    print(f\"Epoch {epoch}/{epochs} Loss: {loss}\")"
   ]
  },
  {
   "cell_type": "markdown",
   "id": "9116785c",
   "metadata": {},
   "source": [
    "### Losses per epoch:"
   ]
  },
  {
   "cell_type": "code",
   "execution_count": 8,
   "id": "aa6ee9ee",
   "metadata": {},
   "outputs": [
    {
     "data": {
      "image/png": "[encoded data removed]",
      "text/plain": [
       "<Figure size 432x288 with 1 Axes>"
      ]
     },
     "metadata": {
      "needs_background": "light"
     },
     "output_type": "display_data"
    }
   ],
   "source": [
    "plt.plot(losses);"
   ]
  },
  {
   "cell_type": "markdown",
   "id": "e9cbb47d",
   "metadata": {},
   "source": [
    "### Predictions:"
   ]
  },
  {
   "cell_type": "code",
   "execution_count": 9,
   "id": "4c7872e3",
   "metadata": {},
   "outputs": [
    {
     "data": {
      "text/plain": [
       "tensor([[-1.6137],\n",
       "        [ 1.7423],\n",
       "        [ 2.4408],\n",
       "        [ 0.1503],\n",
       "        [ 4.4101],\n",
       "        [-3.4581],\n",
       "        [ 4.6066],\n",
       "        [ 2.6662],\n",
       "        [ 1.3283],\n",
       "        [-4.4986],\n",
       "        [ 3.7096],\n",
       "        [-2.2813],\n",
       "        [-1.4013],\n",
       "        [ 1.3647],\n",
       "        [-4.4454],\n",
       "        [ 4.4255],\n",
       "        [ 2.7013],\n",
       "        [-2.6068],\n",
       "        [ 0.5828],\n",
       "        [ 0.0144]], grad_fn=<AddmmBackward>)"
      ]
     },
     "execution_count": 9,
     "metadata": {},
     "output_type": "execute_result"
    }
   ],
   "source": [
    "predicted = model(inputs)\n",
    "predicted"
   ]
  },
  {
   "cell_type": "code",
   "execution_count": 10,
   "id": "84c71e3b",
   "metadata": {},
   "outputs": [
    {
     "data": {
      "image/png": "[encoded data removed]",
      "text/plain": [
       "<Figure size 432x288 with 1 Axes>"
      ]
     },
     "metadata": {
      "needs_background": "light"
     },
     "output_type": "display_data"
    }
   ],
   "source": [
    "predicted = predicted.detach().numpy()\n",
    "plt.scatter(X, Y, label=\"Original data\")\n",
    "plt.plot(X, predicted, label=\"Fitted line\")\n",
    "plt.legend();"
   ]
  },
  {
   "cell_type": "markdown",
   "id": "ab033102",
   "metadata": {},
   "source": [
    "### Another way:`"
   ]
  },
  {
   "cell_type": "code",
   "execution_count": 21,
   "id": "c2b0491a",
   "metadata": {
    "scrolled": true
   },
   "outputs": [
    {
     "data": {
      "text/plain": [
       "tensor([[-1.6137],\n",
       "        [ 1.7423],\n",
       "        [ 2.4408],\n",
       "        [ 0.1503],\n",
       "        [ 4.4101],\n",
       "        [-3.4581],\n",
       "        [ 4.6066],\n",
       "        [ 2.6662],\n",
       "        [ 1.3283],\n",
       "        [-4.4986],\n",
       "        [ 3.7096],\n",
       "        [-2.2813],\n",
       "        [-1.4013],\n",
       "        [ 1.3647],\n",
       "        [-4.4454],\n",
       "        [ 4.4255],\n",
       "        [ 2.7013],\n",
       "        [-2.6068],\n",
       "        [ 0.5828],\n",
       "        [ 0.0144]])"
      ]
     },
     "execution_count": 21,
     "metadata": {},
     "output_type": "execute_result"
    }
   ],
   "source": [
    "with torch.no_grad():\n",
    "    out = model(inputs)\n",
    "out"
   ]
  },
  {
   "cell_type": "code",
   "execution_count": 22,
   "id": "41ba8648",
   "metadata": {},
   "outputs": [
    {
     "data": {
      "image/png": "[encoded data removed]",
      "text/plain": [
       "<Figure size 432x288 with 1 Axes>"
      ]
     },
     "metadata": {
      "needs_background": "light"
     },
     "output_type": "display_data"
    }
   ],
   "source": [
    "w = model.weight.data.numpy()\n",
    "b = model.bias.data.numpy()\n",
    "y = (X * w) + b\n",
    "plt.scatter(X, Y)\n",
    "plt.plot(X, y);"
   ]
  },
  {
   "cell_type": "code",
   "execution_count": 23,
   "id": "46b0e54e",
   "metadata": {},
   "outputs": [
    {
     "data": {
      "text/plain": [
       "array([[ True],\n",
       "       [ True],\n",
       "       [ True],\n",
       "       [ True],\n",
       "       [ True],\n",
       "       [ True],\n",
       "       [ True],\n",
       "       [ True],\n",
       "       [ True],\n",
       "       [ True],\n",
       "       [ True],\n",
       "       [ True],\n",
       "       [ True],\n",
       "       [ True],\n",
       "       [ True],\n",
       "       [ True],\n",
       "       [ True],\n",
       "       [ True],\n",
       "       [ True],\n",
       "       [ True]])"
      ]
     },
     "execution_count": 23,
     "metadata": {},
     "output_type": "execute_result"
    }
   ],
   "source": [
    "y.astype(np.int32) == predicted.astype(np.int32)"
   ]
  }
 ],
 "metadata": {
  "kernelspec": {
   "display_name": "Python 3 (ipykernel)",
   "language": "python",
   "name": "python3"
  },
  "language_info": {
   "codemirror_mode": {
    "name": "ipython",
    "version": 3
   },
   "file_extension": ".py",
   "mimetype": "text/x-python",
   "name": "python",
   "nbconvert_exporter": "python",
   "pygments_lexer": "ipython3",
   "version": "3.8.13"
  }
 },
 "nbformat": 4,
 "nbformat_minor": 5
}
